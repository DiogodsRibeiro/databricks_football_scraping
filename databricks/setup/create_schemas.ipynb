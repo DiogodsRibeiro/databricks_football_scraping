{
 "cells": [
  {
   "cell_type": "code",
   "execution_count": 0,
   "metadata": {
    "application/vnd.databricks.v1+cell": {
     "cellMetadata": {
      "byteLimit": 2048000,
      "implicitDf": true,
      "rowLimit": 10000
     },
     "inputWidgets": {},
     "nuid": "fe812ac7-f713-4862-8372-a7ca7bf9ec18",
     "showTitle": false,
     "tableResultSettingsMap": {},
     "title": ""
    }
   },
   "outputs": [],
   "source": [
    "%sql\n",
    "-- Usar/Criar o catálogo para o projeto de webscraping de futebol\n",
    "-- CREATE CATALOG IF NOT EXISTS databricks_webscraping_football_ws\n",
    "-- COMMENT 'Catálogo para dados de webscraping de futebol';\n",
    "\n",
    "USE CATALOG databricks_webscraping_football_ws;\n",
    "\n",
    "-- ========================================\n",
    "-- CAMADA RAW - Dados brutos\n",
    "-- ========================================\n",
    "CREATE SCHEMA IF NOT EXISTS databricks_webscraping_football_ws.raw\n",
    "COMMENT 'Camada RAW - dados brutos do webscraping, como chegam das fontes';\n",
    "\n",
    "-- Criar volumes para cada endpoint na camada RAW\n",
    "CREATE VOLUME IF NOT EXISTS databricks_webscraping_football_ws.raw.calendar\n",
    "COMMENT 'Dados brutos do endpoint de calendário de partidas';\n",
    "\n",
    "CREATE VOLUME IF NOT EXISTS databricks_webscraping_football_ws.raw.results\n",
    "COMMENT 'Dados brutos do endpoint de resultados de partidas';\n",
    "\n",
    "CREATE VOLUME IF NOT EXISTS databricks_webscraping_football_ws.raw.statistics\n",
    "COMMENT 'Dados brutos do endpoint de estatísticas';\n",
    "\n",
    "CREATE VOLUME IF NOT EXISTS databricks_webscraping_football_ws.raw.statistics_urls\n",
    "COMMENT 'Dados brutos das URLs de estatísticas coletadas';\n",
    "\n",
    "-- ========================================\n",
    "-- CAMADA BRONZE - Dados estruturados\n",
    "-- ========================================\n",
    "CREATE SCHEMA IF NOT EXISTS databricks_webscraping_football_ws.bronze\n",
    "COMMENT 'Camada BRONZE - dados estruturados em Delta Tables, com metadados e controle de ingestão';\n",
    "\n",
    "-- ========================================\n",
    "-- CAMADA SILVER - Dados limpos e validados\n",
    "-- ========================================\n",
    "CREATE SCHEMA IF NOT EXISTS databricks_webscraping_football_ws.silver\n",
    "COMMENT 'Camada SILVER - dados limpos, validados e com regras de negócio aplicadas';\n",
    "\n",
    "-- ========================================\n",
    "-- CAMADA GOLD - Dados agregados e prontos\n",
    "-- ========================================\n",
    "CREATE SCHEMA IF NOT EXISTS databricks_webscraping_football_ws.gold\n",
    "COMMENT 'Camada GOLD - dados agregados, métricas e análises finais prontas para consumo';\n",
    "\n",
    "-- ========================================\n",
    "-- Verificar estrutura criada\n",
    "-- ========================================\n",
    "SHOW SCHEMAS IN databricks_webscraping_football_ws;\n",
    "SHOW VOLUMES IN databricks_webscraping_football_ws.raw;"
   ]
  }
 ],
 "metadata": {
  "application/vnd.databricks.v1+notebook": {
   "computePreferences": null,
   "dashboards": [],
   "environmentMetadata": {
    "base_environment": "",
    "environment_version": "4"
   },
   "inputWidgetPreferences": null,
   "language": "python",
   "notebookMetadata": {
    "mostRecentlyExecutedCommandWithImplicitDF": {
     "commandId": 8363428549072547,
     "dataframes": [
      "_sqldf"
     ]
    },
    "pythonIndentUnit": 4
   },
   "notebookName": "create_schemas",
   "widgets": {}
  },
  "language_info": {
   "name": "python"
  }
 },
 "nbformat": 4,
 "nbformat_minor": 0
}
