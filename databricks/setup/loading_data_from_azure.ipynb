{
 "cells": [
  {
   "cell_type": "code",
   "execution_count": 0,
   "metadata": {
    "application/vnd.databricks.v1+cell": {
     "cellMetadata": {
      "byteLimit": 2048000,
      "rowLimit": 10000
     },
     "inputWidgets": {},
     "nuid": "98fa29b7-5872-4e37-8ef1-2a33b4ad29c7",
     "showTitle": false,
     "tableResultSettingsMap": {},
     "title": ""
    }
   },
   "outputs": [],
   "source": [
    "%run \"/Workspace/databricks_webscraping_football/databricks_football_scraping/databricks/setup/access_azure_datalake_using_service_principal\""
   ]
  },
  {
   "cell_type": "code",
   "execution_count": 0,
   "metadata": {
    "application/vnd.databricks.v1+cell": {
     "cellMetadata": {
      "byteLimit": 2048000,
      "rowLimit": 10000
     },
     "inputWidgets": {},
     "nuid": "e0d66866-63cb-4f6b-9809-60d38083920f",
     "showTitle": false,
     "tableResultSettingsMap": {},
     "title": ""
    }
   },
   "outputs": [],
   "source": [
    "from delta.tables import DeltaTable\n",
    "\n",
    "# ========================================\n",
    "# CARREGAR DADOS JSON DO AZURE (COM MULTILINE)\n",
    "# ========================================\n",
    "\n",
    "df_calendar = spark.read.format(\"json\") \\\n",
    "    .option(\"multiLine\", \"true\") \\\n",
    "    .load(\"abfss://calender@scrapingfootball.dfs.core.windows.net/all_calendar.json\")\n",
    "\n",
    "df_results = spark.read.format(\"json\") \\\n",
    "    .option(\"multiLine\", \"true\") \\\n",
    "    .load(\"abfss://results@scrapingfootball.dfs.core.windows.net/all_results_incremental.json\")\n",
    "\n",
    "df_statistics = spark.read.format(\"json\") \\\n",
    "    .option(\"multiLine\", \"true\") \\\n",
    "    .load(\"abfss://statistics@scrapingfootball.dfs.core.windows.net/incremental_games_statistics.json\")\n",
    "\n",
    "print(f\"✅ Dados JSON carregados:\")\n",
    "print(f\"   Calendar: {df_calendar.count()} registros\")\n",
    "print(f\"   Results: {df_results.count()} registros\")\n",
    "print(f\"   Statistics: {df_statistics.count()} registros\")"
   ]
  },
  {
   "cell_type": "code",
   "execution_count": 0,
   "metadata": {
    "application/vnd.databricks.v1+cell": {
     "cellMetadata": {
      "byteLimit": 2048000,
      "rowLimit": 10000
     },
     "inputWidgets": {},
     "nuid": "6048cd84-b685-45bc-af27-ab7839061f3b",
     "showTitle": false,
     "tableResultSettingsMap": {},
     "title": ""
    }
   },
   "outputs": [],
   "source": [
    "calendar_path = \"/Volumes/databricks_webscraping_football_ws/raw/calendar/all_calendar\"\n",
    "\n",
    "if DeltaTable.isDeltaTable(spark, calendar_path):\n",
    "    delta_calendar = DeltaTable.forPath(spark, calendar_path)\n",
    "    delta_calendar.alias(\"target\").merge(\n",
    "        df_calendar.alias(\"source\"),\n",
    "        \"target.id = source.id\"\n",
    "    ).whenMatchedUpdateAll() \\\n",
    "     .whenNotMatchedInsertAll() \\\n",
    "     .execute()\n",
    "    print(\"✅ Calendar atualizado (MERGE)\")\n",
    "else:\n",
    "    df_calendar.write.format(\"delta\").mode(\"overwrite\").save(calendar_path)\n",
    "    print(\"✅ Calendar criado pela primeira vez\")\n",
    "\n",
    "# RESULTS\n",
    "results_path = \"/Volumes/databricks_webscraping_football_ws/raw/results/all_results\"\n",
    "\n",
    "if DeltaTable.isDeltaTable(spark, results_path):\n",
    "    delta_results = DeltaTable.forPath(spark, results_path)\n",
    "    delta_results.alias(\"target\").merge(\n",
    "        df_results.alias(\"source\"),\n",
    "        \"target.id = source.id\"\n",
    "    ).whenMatchedUpdateAll() \\\n",
    "     .whenNotMatchedInsertAll() \\\n",
    "     .execute()\n",
    "    print(\"✅ Results atualizado (MERGE)\")\n",
    "else:\n",
    "    df_results.write.format(\"delta\").mode(\"overwrite\").save(results_path)\n",
    "    print(\"✅ Results criado pela primeira vez\")\n",
    "\n",
    "# STATISTICS\n",
    "statistics_path = \"/Volumes/databricks_webscraping_football_ws/raw/statistics/all_statistics\"\n",
    "\n",
    "if DeltaTable.isDeltaTable(spark, statistics_path):\n",
    "    delta_statistics = DeltaTable.forPath(spark, statistics_path)\n",
    "    delta_statistics.alias(\"target\").merge(\n",
    "        df_statistics.alias(\"source\"),\n",
    "        \"target.id = source.id\"\n",
    "    ).whenMatchedUpdateAll() \\\n",
    "     .whenNotMatchedInsertAll() \\\n",
    "     .execute()\n",
    "    print(\"✅ Statistics atualizado (MERGE)\")\n",
    "else:\n",
    "    df_statistics.write.format(\"delta\").mode(\"overwrite\").save(statistics_path)\n",
    "    print(\"✅ Statistics criado pela primeira vez\")"
   ]
  }
 ],
 "metadata": {
  "application/vnd.databricks.v1+notebook": {
   "computePreferences": {
    "hardware": {
     "accelerator": null,
     "gpuPoolId": null,
     "memory": null
    }
   },
   "dashboards": [],
   "environmentMetadata": {
    "base_environment": "",
    "environment_version": "4"
   },
   "inputWidgetPreferences": null,
   "language": "python",
   "notebookMetadata": {
    "pythonIndentUnit": 4
   },
   "notebookName": "loading_data_from_azure",
   "widgets": {}
  },
  "language_info": {
   "name": "python"
  }
 },
 "nbformat": 4,
 "nbformat_minor": 0
}
